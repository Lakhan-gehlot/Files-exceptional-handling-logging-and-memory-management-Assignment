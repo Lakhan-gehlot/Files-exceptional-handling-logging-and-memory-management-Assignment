{
  "nbformat": 4,
  "nbformat_minor": 0,
  "metadata": {
    "colab": {
      "provenance": []
    },
    "kernelspec": {
      "name": "python3",
      "display_name": "Python 3"
    },
    "language_info": {
      "name": "python"
    }
  },
  "cells": [
    {
      "cell_type": "markdown",
      "source": [
        "Files, exceptional handling, logging and\n",
        "memory management :----"
      ],
      "metadata": {
        "id": "BMn69KFIQVT5"
      }
    },
    {
      "cell_type": "markdown",
      "source": [
        "Q.1) What is the difference between interpreted and compiled languages?\n",
        "\n",
        "ans:- The main difference between compiled and interpreted languages lies in how the source code is executed. Compiled languages are translated into machine code before runtime, allowing for faster execution, while interpreted languages are executed line by line during runtime by an interpreter. This means compiled code can be executed directly by the computer's CPU, whereas interpreted code relies on an intermediary program to execute each instruction."
      ],
      "metadata": {
        "id": "-R7zh8KkQbi6"
      }
    },
    {
      "cell_type": "markdown",
      "source": [
        "Q.2) What is exception handling in Python?\n",
        "\n",
        "ans:-  Exception handling in Python is a mechanism used to manage runtime errors, known as exceptions, that occur during the execution of a program. This mechanism prevents the program from crashing abruptly and allows for a more robust and controlled response to unexpected situations.\n",
        "Key components of Python exception handling:\n",
        "try block: This block contains the code that might potentially raise an exception.\n",
        "except block: This block is executed if an exception occurs within the corresponding try block. It allows for specific handling of different exception types.\n",
        "else block (optional): This block is executed if no exception occurs within the try block.\n",
        "finally block (optional): This block is always executed, regardless of whether an exception occurred or was handled. It is commonly used for cleanup operations like closing files or releasing resources."
      ],
      "metadata": {
        "id": "jhs_u2AeQsAH"
      }
    },
    {
      "cell_type": "markdown",
      "source": [
        "Q.3) What is the purpose of the finally block in exception handling?\n",
        "\n",
        "ans:- The finally block in exception handling ensures that a specific block of code is always executed, regardless of whether an exception is thrown or caught within the try block. Its primary purpose is to perform necessary cleanup operations, such as releasing resources (closing files, database connections, etc.) or performing other final actions, to prevent resource leaks and ensure proper program termination"
      ],
      "metadata": {
        "id": "Wgo6TmaCRBEH"
      }
    },
    {
      "cell_type": "markdown",
      "source": [
        "Q.4) What is logging in Python?\n",
        "\n",
        "ans:-  Logging in Python is the process of tracking and recording events that occur during the execution of a program. It involves using the built-in logging module to capture information about the program's state, errors, warnings, and other significant events."
      ],
      "metadata": {
        "id": "XKWuDqeSTCIn"
      }
    },
    {
      "cell_type": "markdown",
      "source": [
        "Q.5) What is the significance of the __del__ method in Python?\n",
        "\n",
        "ans:-- The __del__ method in Python, often referred to as a \"finalizer\" or \"destructor\" (though not a true destructor in the C++ sense), is a special method that is called when an object is about to be garbage-collected. Its primary significance lies in providing a mechanism for performing cleanup operations or resource release just before an object is completely removed from memory."
      ],
      "metadata": {
        "id": "7IuYVLzPTHDk"
      }
    },
    {
      "cell_type": "markdown",
      "source": [
        "Q.6) What is the difference between import and from ... import in Python?\n",
        "\n",
        "ans:- In Python, both import and from ... import statements are used to bring modules or specific components of modules into the current namespace, but they differ in how they make those components accessible.\n",
        "1. import module_name\n",
        "Functionality: This statement imports the entire module into the current namespace.\n",
        "Access: To access any function, class, or variable from the imported module, you must prefix it with the module name and a dot (.).\n",
        "Example:\n",
        "Python\n",
        "\n",
        "    \n",
        "2. from module_name import item_name\n",
        "Functionality: This statement imports only a specific function, class, or variable from a module directly into the current namespace.\n",
        "Access: You can directly use the imported item by its name without needing to prefix it with the module name."
      ],
      "metadata": {
        "id": "DjQVlUqaTXRj"
      }
    },
    {
      "cell_type": "markdown",
      "source": [
        "Q.7) How can you handle multiple exceptions in Python?\n",
        "\n",
        "Ans:- In Python, multiple exceptions can be handled within a single try-except block in several ways:\n",
        "Handling multiple specific exceptions with a single except block:\n",
        "If the same handling logic applies to several different exception types, they can be grouped together in a tuple within a single except statement."
      ],
      "metadata": {
        "id": "YJrrLgN8Ttjg"
      }
    },
    {
      "cell_type": "markdown",
      "source": [
        "Q.8) What is the purpose of the with statement when handling files in Python?\n",
        "\n",
        "ans:- The purpose of the with statement when handling files in Python is to ensure proper resource management, specifically that the file is automatically closed after its use, even if errors occur.\n",
        "This is achieved through the use of context managers, which the with statement leverages. When a file is opened using with open(...) as file_object:, the following occurs:\n",
        "Automatic Setup:\n",
        "The file is opened, and a file object is assigned to the specified variable (e.g., file_object).\n",
        "Execution of Block:\n",
        "The code within the with block is executed, allowing operations like reading from or writing to the file.\n",
        "Guaranteed Cleanup:\n",
        "Once the with block is exited, regardless of whether it completes normally or an exception is raised, the with statement automatically calls the necessary cleanup method (in this case, file_object.close()) to ensure the file is properly closed.\n",
        "This eliminates the need for manual try...finally blocks to guarantee file closure, leading to cleaner, more readable, and less error-prone code. It prevents resource leaks and potential data corruption that could occur if files are not closed correctly."
      ],
      "metadata": {
        "id": "j51Zx82bkkud"
      }
    },
    {
      "cell_type": "markdown",
      "source": [
        "Q.9)  What is the difference between multithreading and multiprocessing?\n",
        "\n",
        "ANS:- Multithreading and multiprocessing are both techniques to achieve parallel execution, but they differ in how they divide tasks and manage resources. Multithreading involves running multiple threads within a single process, sharing the same memory space. Multiprocessing, on the other hand, utilizes multiple processes, each with its own memory space, potentially on separate CPUs.\n",
        "Here's a more detailed breakdown:\n",
        "Multithreading:\n",
        "Focus: Concurrency within a single process.\n",
        "Threads: Lightweight units of execution that share the same memory space and resources of the parent process.\n",
        "Communication: Easier and faster communication between threads due to shared memory.\n",
        "Resource Usage: Lower memory overhead compared to multiprocessing because threads share resources.\n",
        "Potential Issues: A crash in one thread can potentially affect the entire process and other threads.\n",
        "Multiprocessing:\n",
        "Focus: Parallelism across multiple processes, potentially on separate CPUs.\n",
        "Processes: Independent units of execution, each with its own memory space and resources.\n",
        "Communication: Requires inter-process communication (IPC) mechanisms for data exchange, which can be slower.\n",
        "Resource Usage: Higher memory overhead due to each process having its own memory space.\n",
        "Potential Issues: A crash in one process generally does not affect other processes."
      ],
      "metadata": {
        "id": "JkjBiRylk4V-"
      }
    },
    {
      "cell_type": "markdown",
      "source": [
        "Q.10) What are the advantages of using logging in a program?\n",
        "\n",
        "ANS:-- Logging offers numerous advantages in programming, primarily aiding in debugging, performance monitoring, and security. It provides a detailed record of application behavior, allowing developers to understand how the program functions, track events, and identify issues, including errors, warnings, and other critical events. Logs also help in analyzing application behavior over time, detecting usage patterns, and even facilitating incident investigations.\n",
        "Here's a more detailed breakdown of the benefits:\n",
        "1. Enhanced Debugging and Troubleshooting:\n",
        "Detailed error information:\n",
        "Logs capture the state of the application when an error occurs, providing more context than a simple traceback. This helps pinpoint the exact location and cause of the error.\n",
        "Real-time insights:\n",
        "Developers can monitor the application's behavior in real-time to identify issues as they happen and quickly resolve them.\n",
        "Reduced Mean Time To Resolution (MTTR):\n",
        "By providing detailed information about errors, logs significantly reduce the time it takes to diagnose and fix problems.\n",
        "2. Performance Monitoring and Optimization:\n",
        "Identifying bottlenecks:\n",
        "Logs can reveal performance bottlenecks by showing which parts of the application are taking the longest to execute.\n",
        "Analyzing usage patterns:\n",
        "By tracking user actions and data processing, logs can reveal how users interact with the application, leading to performance improvements.\n",
        "Optimizing resource utilization:\n",
        "Logs can help identify areas where resources are being used inefficiently, enabling developers to optimize the application's performance and reduce costs.\n",
        "3. Security and Compliance:\n",
        "Detecting suspicious activity:\n",
        "Logs can help identify unusual patterns or unauthorized access attempts, alerting administrators to potential security breaches.\n",
        "Auditing and compliance:\n",
        "Logs provide a detailed audit trail of application activity, which is crucial for regulatory compliance and security audits.\n",
        "Incident investigation:\n",
        "Logs act as a reliable record of events, providing crucial information for investigating security incidents and determining the root cause of security breaches.\n",
        "4. Improved Collaboration and Communication:\n",
        "Shared understanding:\n",
        "Logs provide a common source of truth for developers, system administrators, and other stakeholders, facilitating better communication and collaboration.\n",
        "Knowledge sharing:\n",
        "Logs can be used to document application behavior, making it easier for new team members to understand the system and its functionalities.\n",
        "Centralized logging:\n",
        "Centralized logging systems provide a unified view of logs from different parts of the application, making it easier to monitor and troubleshoot.\n",
        "5. Other Benefits:\n",
        "Event tracing:\n",
        "Logs can be used to trace the flow of events through the application, helping to understand how different parts of the system interact.\n",
        "Business intelligence:\n",
        "Logs can be used to extract valuable insights about user behavior and application usage, which can be used to improve business strategies.\n",
        "Continuous feedback and improvement:\n",
        "By tracking logs throughout the software development lifecycle, teams can identify recurring issues and make continuous improvements to the application."
      ],
      "metadata": {
        "id": "sr1rrlRXlFsm"
      }
    },
    {
      "cell_type": "markdown",
      "source": [
        "Q.11) What is memory management in Python?\n",
        "\n",
        "ANS:- Memory management in Python refers to the system that automatically handles the allocation and deallocation of memory for Python objects. Unlike languages like C or C++ where developers manually manage memory, Python provides automatic memory management, simplifying development and reducing common memory-related errors.\n",
        "Key aspects of Python's memory management include:\n",
        "Private Heap:\n",
        "All Python objects and data structures reside in a private heap. This heap is managed internally by the Python memory manager, and direct access to it by the developer is not permitted.\n",
        "Reference Counting:\n",
        "Python uses a reference counting mechanism to track the number of references pointing to an object. When an object's reference count drops to zero, it means no variables or other objects are referencing it, and the memory occupied by that object can be reclaimed.\n",
        "Garbage Collection:\n",
        "While reference counting handles most memory deallocation, it cannot handle circular references (where objects refer to each other in a loop, preventing their reference counts from ever reaching zero). For these cases, Python employs a cyclic garbage collector. This collector periodically identifies and reclaims memory occupied by objects involved in circular references that are no longer accessible from the program's root objects.\n",
        "Object-Specific Allocators:\n",
        "The Python memory manager utilizes various object-specific allocators that operate on the private heap. These specialized allocators optimize memory usage and performance for different object types (e.g., integers, strings, lists, dictionaries) based on their specific storage requirements and usage patterns.\n",
        "In essence, Python's memory management system allows developers to focus on writing code without worrying about explicit memory allocation and deallocation, as these tasks are handled automatically by the interpreter."
      ],
      "metadata": {
        "id": "7ZaL9WU_lWbC"
      }
    },
    {
      "cell_type": "markdown",
      "source": [
        "Q,12) What are the basic steps involved in exception handling in Python?\n",
        "\n",
        "ANS:- Exception handling in Python involves anticipating and responding to errors that may occur during program execution, preventing the program from crashing. The basic steps utilize try, except, else, and finally blocks:"
      ],
      "metadata": {
        "id": "C2KCtqkKlp0X"
      }
    },
    {
      "cell_type": "markdown",
      "source": [
        "Q.13) Why is memory management important in Python?\n",
        "\n",
        "ANS:- Memory management is crucial in Python, even though it largely handles memory automatically, for several reasons:\n",
        "Efficiency and Performance:\n",
        "Proper memory management ensures that programs utilize system resources efficiently. When memory is managed well, programs run faster and consume less RAM, which is especially important for large applications or those dealing with significant amounts of data. Inefficient memory usage can lead to slow execution, increased processing times, and potentially system slowdowns.\n",
        "Preventing Memory Leaks:\n",
        "Memory leaks occur when a program fails to release memory that is no longer in use, leading to a gradual increase in memory consumption over time. This can eventually lead to the program running out of memory, crashing, or becoming unresponsive. Python's automatic garbage collection helps mitigate this, but understanding memory management principles allows developers to write code that avoids creating situations where objects might not be properly de-referenced.\n",
        "Resource Optimization:\n",
        "Python's memory management mechanisms, such as reference counting and garbage collection, are designed to optimize memory usage by reclaiming space occupied by objects that are no longer accessible. Understanding these mechanisms enables developers to write code that works in harmony with Python's memory management system, leading to more optimized applications.\n",
        "Debugging and Troubleshooting:\n",
        "Knowledge of memory management helps in identifying and resolving memory-related issues in Python programs. When a program exhibits unexpected behavior or high memory usage, understanding how Python allocates and deallocates memory can guide the debugging process and help pinpoint the root cause of the problem.\n",
        "Writing Robust Applications:\n",
        "By understanding how memory is managed, developers can write more robust and stable applications that are less prone to crashes or errors caused by memory exhaustion or corruption. This is particularly important for long-running applications or those handling critical data.\n",
        "\n",
        "\n"
      ],
      "metadata": {
        "id": "QgxzRhqjl5M6"
      }
    },
    {
      "cell_type": "markdown",
      "source": [
        "Q.14)  What is the role of try and except in exception handling?\n",
        "\n",
        "ANS:- n Python, the try and except statements are used for exception handling, which allows the program to gracefully manage errors that occur during runtime instead of crashing. The try block contains the code that might potentially raise an exception, while the except block handles the exception if it occurs.\n",
        "Here's a more detailed explanation:\n",
        "try block:\n",
        "This block encloses the code that might cause an error or exception. If an exception is raised within the try block, the program's execution immediately jumps to the corresponding except block.\n",
        "except block:\n",
        "This block contains the code that will be executed if a specific type of exception is raised in the try block. You can have multiple except blocks to handle different types of exceptions.\n",
        "Purpose:\n",
        "The primary role of try and except is to prevent the program from abruptly terminating when an error occurs. Instead, it allows the program to continue execution after handling the exception in a controlled manner."
      ],
      "metadata": {
        "id": "6QJOaU9tmHuU"
      }
    },
    {
      "cell_type": "markdown",
      "source": [
        "Q.15) How does Python's garbage collection system work?\n",
        "\n",
        "ANS:- Python's garbage collection system primarily uses reference counting as its main mechanism for memory management. It also employs a generational garbage collector to handle circular references. Essentially, Python keeps track of how many references point to each object. When the reference count drops to zero, the object is considered garbage and its memory is freed.\n",
        "Here's a more detailed explanation:\n",
        "1. Reference Counting:\n",
        "Every object in Python has a reference count associated with it.\n",
        "This count indicates how many different variables or data structures are currently pointing to that object.\n",
        "When a new reference to an object is created, its reference count is incremented.\n",
        "When a reference is deleted or goes out of scope, the reference count is decremented.\n",
        "When the reference count of an object reaches zero, it means the object is no longer in use and the Python interpreter can reclaim the memory occupied by that object.\n",
        "2. Generational Garbage Collection:\n",
        "Python also has a generational garbage collector to address circular references.\n",
        "Circular references occur when objects refer to each other, creating a cycle where reference counts never reach zero even if the objects are no longer accessible from the main program.\n",
        "The generational garbage collector divides objects into different generations (typically three: 0, 1, and 2) based on how many garbage collection cycles they have survived.\n",
        "New objects start in generation 0. If an object survives a collection cycle, it's moved to the next older generation.\n",
        "When the garbage collector runs, it first checks the youngest generation (generation 0). If necessary, it checks older generations as well.\n",
        "The collector identifies unreachable objects (including those within circular references) and reclaims their memory.\n",
        "In essence:\n",
        "Reference counting is a quick way to reclaim memory for simple cases.\n",
        "Generational garbage collection is a more robust approach to handle complex scenarios like circular references, ensuring that memory is reclaimed even when objects are indirectly connected through cycles."
      ],
      "metadata": {
        "id": "2QktO_1WmTrf"
      }
    },
    {
      "cell_type": "markdown",
      "source": [
        "Q.16) What is the purpose of the else block in exception handling?\n",
        "\n",
        "ANS:- In exception handling, the else block is executed only when no exceptions are raised within the associated try block. It provides a way to run specific code when the try block's operations are successful and no errors occur.\n",
        "Here's a more detailed explanation:\n",
        "Purpose:\n",
        "Conditional Execution:\n",
        "The primary purpose of the else block is to execute code only if the try block completes without raising an exception.\n",
        "Separation of Success and Failure:\n",
        "It allows you to clearly separate the code that should run when everything goes right (in the else block) from the code that handles potential errors (in the except block).\n",
        "Avoiding Accidental Exception Handling:\n",
        "Placing code intended to run after successful execution in the try block can lead to unintended exception handling if those statements also raise exceptions. The else block prevents this by ensuring that only the code in the try block is subject to exception handling."
      ],
      "metadata": {
        "id": "PvCfwxDamfPC"
      }
    },
    {
      "cell_type": "markdown",
      "source": [
        "Q.17) What are the common logging levels in Python?\n",
        "\n",
        "ANS:- The Python logging module defines several standard levels to indicate the severity of events. These common logging levels, in order from lowest to highest severity, are:\n",
        "DEBUG:\n",
        "Provides detailed information, typically useful only when diagnosing problems and for development purposes.\n",
        "INFO:\n",
        "Confirms that things are working as expected and provides general information about the program's execution.\n",
        "WARNING:\n",
        "Indicates that something unexpected happened or could happen soon, but the software is still working as expected.\n",
        "ERROR:\n",
        "Signifies a more serious problem that has prevented the software from performing some functions.\n",
        "CRITICAL:\n",
        "Represents a severe error indicating that the program itself may be unable to continue running.\n",
        "Additionally, there is a NOTSET level, which is the initial default setting for a logger before a specific level is configured. When a logger's level is set, only messages with a severity level equal to or higher than the configured level will be processed."
      ],
      "metadata": {
        "id": "PQou8c5kmq8b"
      }
    },
    {
      "cell_type": "markdown",
      "source": [
        "Q.18) What is the difference between os.fork() and multiprocessing in Python?\n",
        "\n",
        "ANS:- The os.fork() function and the multiprocessing module in Python both enable process creation and parallelism, but they differ significantly in their approach, portability, and level of abstraction.\n",
        "1. Abstraction and Control:\n",
        "os.fork():\n",
        "This is a low-level system call available on POSIX (Unix-like) systems. It directly duplicates the current process, creating a child process that is initially an exact copy of the parent. Programmers have fine-grained control over what happens in the parent and child processes after the fork.\n",
        "multiprocessing:\n",
        "This module provides a higher-level, cross-platform API for process-based parallelism. It abstracts away the complexities of os.fork() (or other process creation methods like spawn on Windows and macOS) and offers a more structured way to manage processes, communicate between them, and utilize resources like pools and queues.\n",
        "2. Portability:\n",
        "os.fork():\n",
        "This function is not available on Windows, limiting its use to POSIX-compliant operating systems.\n",
        "multiprocessing:\n",
        "This module is designed to be cross-platform, providing a consistent interface for process creation and management across different operating systems, including Windows, macOS, and Linux. It achieves this by using different underlying mechanisms (like spawn or fork) depending on the platform.\n",
        "3. Resource Inheritance and State:\n",
        "os.fork():\n",
        "When os.fork() is called, the child process inherits a copy of the parent's memory space, including open file descriptors, variables, and the program's state at the moment of the fork. This can lead to issues if not carefully managed, especially with shared resources or mutable objects.\n",
        "multiprocessing:\n",
        "When using multiprocessing.Process with the default spawn start method (on Windows/macOS, and becoming default on POSIX in Python 3.14), a fresh Python interpreter process is started. The child process only inherits necessary resources, avoiding potential issues with inherited state and open file descriptors from the parent. The fork start method, available on POSIX, behaves similarly to os.fork().\n",
        "4. Safety and Best Practices:\n",
        "os.fork():\n",
        "Directly using os.fork() can be problematic, especially in multithreaded applications or when dealing with libraries that perform background operations or rely on specific initialization states. It requires careful handling of shared resources and inter-process communication (IPC).\n",
        "multiprocessing:\n",
        "The multiprocessing module provides safer and more robust mechanisms for inter-process communication (e.g., Queue, Pipe) and resource management (e.g., Lock, Manager), making it generally preferred for building reliable parallel applications. The spawn start method is considered safer for general use due to its cleaner process isolation."
      ],
      "metadata": {
        "id": "hhIlaOaem2-1"
      }
    },
    {
      "cell_type": "markdown",
      "source": [
        "Q.19) What is the importance of closing a file in Python?\n",
        "\n",
        "ANS:- Resource Management:\n",
        "When a file is opened, the operating system allocates resources (like memory and file descriptors) to manage it. Failing to close the file means these resources remain allocated, potentially leading to resource leaks, especially in long-running applications or those handling many files. This can exhaust available resources, impacting system performance or even causing crashes.\n",
        "Data Integrity:\n",
        "When writing to a file, data is often buffered in memory before being physically written to the disk. Closing the file ensures that any buffered data is flushed and written to the storage medium, preventing data loss or corruption if the program terminates unexpectedly or the system encounters an issue.\n",
        "File Locking:\n",
        "In some operating systems, an open file might be locked, preventing other processes or users from accessing or modifying it. Closing the file releases this lock, allowing other applications to interact with it.\n",
        "Preventing \"Too Many Open Files\" Errors:\n",
        "Operating systems have limits on the number of open files a single process can have. Neglecting to close files can lead to exceeding this limit, resulting in \"Too many open files\" errors and preventing further file operations.\n",
        "Code Clarity and Best Practices:\n",
        "Explicitly closing files improves code readability and maintainability by making it clear when file resources are no longer needed and are being properly released. Using context managers (the with statement) is the recommended and safest way to handle files in Python, as they automatically ensure files are closed, even if errors occur."
      ],
      "metadata": {
        "id": "sE7rShmynF5H"
      }
    },
    {
      "cell_type": "markdown",
      "source": [
        "Q.20) What is the difference between file.read() and file.readline() in Python?\n",
        "\n",
        "ANS:- In Python, file.read() and file.readline() are methods used to read data from a file object, but they differ in how much data they retrieve:\n",
        "file.read(size=-1):\n",
        "Reads the entire content of the file as a single string if no size argument is provided or if size is -1.\n",
        "If a size argument (an integer) is provided, it reads up to size bytes (or characters in text mode) from the file and returns them as a string.\n",
        "Subsequent calls to read() will continue reading from where the previous call left off.\n",
        "This method can be memory-intensive for very large files as it loads the entire content into memory.\n",
        "file.readline(size=-1):\n",
        "Reads a single line from the file, including the newline character (\\n) at the end of the line, and returns it as a string.\n",
        "If an optional size argument is provided, it reads at most size bytes (or characters) from the line.\n",
        "If the end of the file is reached and there are no more lines, it returns an empty string.\n",
        "This method is more memory-efficient for large files as it processes data line by line, preventing the entire file from being loaded into memory at once."
      ],
      "metadata": {
        "id": "yFfFCO1MnUyy"
      }
    },
    {
      "cell_type": "markdown",
      "source": [
        "Q.21) What is the logging module in Python used for?\n",
        "\n",
        "ANS:- The logging module in Python is used to track events in a program's execution. It allows developers to record information about errors, warnings, and other events that occur during program execution. This helps in debugging, troubleshooting, and monitoring the application's behavior. Instead of using print statements, which are often temporary and lack context, the logging module provides a structured approach to capturing information about program execution."
      ],
      "metadata": {
        "id": "bjZsBJo_niFT"
      }
    },
    {
      "cell_type": "markdown",
      "source": [
        "Q.22) What is the os module in Python used for in file handling?\n",
        "\n",
        "ANS:- The Python OS module is essential for file-related tasks, enabling efficient file and directory management in programs. It allows you to easily handle the current working directory, create and delete directories, list files and folders, and perform file operations"
      ],
      "metadata": {
        "id": "iPShhwU6nyay"
      }
    },
    {
      "cell_type": "markdown",
      "source": [
        "Q.23) What are the challenges associated with memory management in Python?\n",
        "\n",
        "ANS:- Memory management in Python, while largely automated, presents several challenges:\n",
        "Memory Leaks from Circular References:\n",
        "Python's primary memory management mechanism is reference counting. When an object's reference count drops to zero, its memory is typically deallocated. However, circular references, where objects directly or indirectly refer to each other in a loop, prevent their reference counts from ever reaching zero, leading to memory leaks unless explicitly handled by the garbage collector.\n",
        "Performance Overhead of Garbage Collection:\n",
        "While the generational garbage collector addresses circular references, its execution can introduce performance overhead, especially in applications with frequent object creation and destruction. The garbage collector needs to periodically scan for unreachable objects, which consumes CPU cycles.\n",
        "High Memory Consumption:\n",
        "Python's dynamic typing and object-oriented nature can lead to higher memory consumption compared to languages with more explicit memory control. Each Python object carries overhead for its type information, reference count, and other metadata.\n",
        "Global Interpreter Lock (GIL) and Concurrency:\n",
        "The GIL, present in CPython (the standard Python implementation), ensures that only one thread executes Python bytecode at a time. While simplifying memory management by preventing race conditions on shared memory, it can limit the effectiveness of multi-threading for CPU-bound tasks, as true parallel execution is not achieved within a single Python process.\n",
        "Lack of Manual Control:\n",
        "Python's automatic memory management abstracts away much of the low-level memory handling. While simplifying development, it can be a challenge for developers who require fine-grained control over memory allocation and deallocation for specific performance optimizations or resource-constrained environments.\n",
        "Memory Fragmentation:\n",
        "Over time, repeated allocation and deallocation of objects of varying sizes can lead to memory fragmentation, where free memory is scattered in small, non-contiguous chunks. This can make it difficult to allocate large contiguous blocks of memory, potentially impacting performance.\n"
      ],
      "metadata": {
        "id": "wGAvkfjUn7wS"
      }
    },
    {
      "cell_type": "markdown",
      "source": [
        "Q.24) How do you raise an exception manually in Python?\n",
        "\n",
        "ANS:- In Python, exceptions are raised manually using the raise statement. This allows developers to explicitly signal that an error or an unexpected condition has occurred at a specific point in the code"
      ],
      "metadata": {
        "id": "VUadQEZ5oGNE"
      }
    },
    {
      "cell_type": "markdown",
      "source": [
        "Q.25)  Why is it important to use multithreading in certain applications?\n",
        "\n",
        "ANS:- Multithreading is important in certain applications because it allows for improved performance, responsiveness, and resource utilization by enabling concurrent execution of tasks. This is particularly beneficial for applications that involve heavy computation, network communication, or user interfaces, where delays can significantly impact the user experience"
      ],
      "metadata": {
        "id": "y8v-6S8qoTXE"
      }
    },
    {
      "cell_type": "markdown",
      "source": [
        "Practical Questions :-----"
      ],
      "metadata": {
        "id": "-6j_gB_RogYk"
      }
    },
    {
      "cell_type": "code",
      "source": [
        "#Q.1) How can you open a file for writing in Python and write a string to it?\n",
        "\n",
        "# Writing a string to a file\n",
        "with open('output.txt', 'w') as file:\n",
        "    file.write(\"Hello, Lakhan! This string has been written to the file.\")\n",
        ""
      ],
      "metadata": {
        "id": "TR7d8M2oowtC"
      },
      "execution_count": 6,
      "outputs": []
    },
    {
      "cell_type": "code",
      "source": [
        "#Q.2) Write a Python program to read the contents of a file and print each line?\n",
        "\n",
        "with open('yourfile.txt', 'r') as file:\n",
        "    for line in file:\n",
        "        print(line.strip())\n",
        "\n",
        "\n"
      ],
      "metadata": {
        "id": "7eYmcd0Nqmsa"
      },
      "execution_count": 12,
      "outputs": []
    },
    {
      "cell_type": "code",
      "source": [
        "#Q.3) How would you handle a case where the file doesn't exist while trying to open it for reading?\n",
        "\n",
        "try:\n",
        "    with open('yourfile.txt', 'r') as file:\n",
        "        for line in file:\n",
        "            print(line.strip())\n",
        "except FileNotFoundError:\n",
        "    print(\"Oops! 'yourfile.txt' was not found. Please check the filename or path.\")\n",
        "\n"
      ],
      "metadata": {
        "colab": {
          "base_uri": "https://localhost:8080/"
        },
        "id": "K4r51gPhq1in",
        "outputId": "c5676d63-a178-4296-8464-a0bccb9772b6"
      },
      "execution_count": 13,
      "outputs": [
        {
          "output_type": "stream",
          "name": "stdout",
          "text": [
            "Oops! 'yourfile.txt' was not found. Please check the filename or path.\n"
          ]
        }
      ]
    },
    {
      "cell_type": "code",
      "source": [
        "#Q.4) Write a Python script that reads from one file and writes its content to another file?\n",
        "\n",
        "# Define source and destination filenames\n",
        "source_file = 'source.txt'\n",
        "destination_file = 'destination.txt'\n",
        "\n",
        "try:\n",
        "    # Open source file for reading\n",
        "    with open(source_file, 'r') as src:\n",
        "        content = src.read()\n",
        "\n",
        "    # Open destination file for writing\n",
        "    with open(destination_file, 'w') as dest:\n",
        "        dest.write(content)\n",
        "\n",
        "    print(\"File copied successfully from\", source_file, \"to\", destination_file)\n",
        "\n",
        "except FileNotFoundError:\n",
        "    print(f\"Error: '{source_file}' not found. Please check the filename or path.\")\n",
        "except Exception as e:\n",
        "    print(\"An unexpected error occurred:\", e)\n",
        ""
      ],
      "metadata": {
        "colab": {
          "base_uri": "https://localhost:8080/"
        },
        "id": "HXShRJIMrc2i",
        "outputId": "ed791e1f-07aa-4991-de04-fd9f57279594"
      },
      "execution_count": 14,
      "outputs": [
        {
          "output_type": "stream",
          "name": "stdout",
          "text": [
            "Error: 'source.txt' not found. Please check the filename or path.\n"
          ]
        }
      ]
    },
    {
      "cell_type": "code",
      "source": [
        "#Q.5)  How would you catch and handle division by zero error in Python?\n",
        "\n",
        "try:\n",
        "    # Risky operation\n",
        "    result = 10 / 0\n",
        "except ZeroDivisionError:\n",
        "    print(\"Oops! You can't divide by zero.\")\n",
        "\n",
        "\n",
        "\n"
      ],
      "metadata": {
        "colab": {
          "base_uri": "https://localhost:8080/"
        },
        "id": "2Ld1FrZqrv3i",
        "outputId": "ea89232b-f79f-4d7f-dc9f-3ac65fd66c21"
      },
      "execution_count": 15,
      "outputs": [
        {
          "output_type": "stream",
          "name": "stdout",
          "text": [
            "Oops! You can't divide by zero.\n"
          ]
        }
      ]
    },
    {
      "cell_type": "code",
      "source": [
        "#Q.6) Write a Python program that logs an error message to a log file when a division by zero exception occurs?\n",
        "\n",
        "import logging\n",
        "\n",
        "# Set up logging configuration\n",
        "logging.basicConfig(filename='error.log', level=logging.ERROR,\n",
        "                    format='%(asctime)s - %(levelname)s - %(message)s')\n",
        "\n",
        "# Division operation\n",
        "a = 10\n",
        "b = 0\n",
        "\n",
        "try:\n",
        "    result = a / b\n",
        "except ZeroDivisionError as e:\n",
        "    logging.error(\"Division by zero error occurred: %s\", e)\n",
        "    print(\"Error has been logged. Please check 'error.log'.\")\n",
        ""
      ],
      "metadata": {
        "colab": {
          "base_uri": "https://localhost:8080/"
        },
        "id": "nbyXCR0Hr9kn",
        "outputId": "d9d598df-b681-4f63-a073-6d88b48f3bf6"
      },
      "execution_count": 16,
      "outputs": [
        {
          "output_type": "stream",
          "name": "stderr",
          "text": [
            "ERROR:root:Division by zero error occurred: division by zero\n"
          ]
        },
        {
          "output_type": "stream",
          "name": "stdout",
          "text": [
            "Error has been logged. Please check 'error.log'.\n"
          ]
        }
      ]
    },
    {
      "cell_type": "code",
      "source": [
        "#Q.7) How do you log information at different levels (INFO, ERROR, WARNING) in Python using the logging module?\n",
        "\n",
        "import logging\n",
        "\n",
        "# Configure the logging system\n",
        "logging.basicConfig(\n",
        "    filename='app.log',          # Log file name\n",
        "    level=logging.DEBUG,         # Minimum level to capture\n",
        "    format='%(asctime)s - %(levelname)s - %(message)s'  # Log format\n",
        ")\n",
        "\n",
        "# Log messages at different severity levels\n",
        "logging.debug(\"This is a DEBUG message (useful for devs)\")\n",
        "logging.info(\"This is an INFO message (general updates)\")\n",
        "logging.warning(\"This is a WARNING message (caution alert)\")\n",
        "logging.error(\"This is an ERROR message (something went wrong)\")\n",
        "logging.critical(\"This is a CRITICAL message (major failure)\")"
      ],
      "metadata": {
        "colab": {
          "base_uri": "https://localhost:8080/"
        },
        "id": "ucbWI-xjsLlq",
        "outputId": "38308e0a-2d37-4313-cc45-9b1823e15c64"
      },
      "execution_count": 17,
      "outputs": [
        {
          "output_type": "stream",
          "name": "stderr",
          "text": [
            "WARNING:root:This is a WARNING message (caution alert)\n",
            "ERROR:root:This is an ERROR message (something went wrong)\n",
            "CRITICAL:root:This is a CRITICAL message (major failure)\n"
          ]
        }
      ]
    },
    {
      "cell_type": "code",
      "source": [
        "#Q.8) Write a program to handle a file opening error using exception handling?\n",
        "\n",
        "filename = 'non_existent_file.txt'\n",
        "\n",
        "try:\n",
        "    with open(filename, 'r') as file:\n",
        "        content = file.read()\n",
        "        print(content)\n",
        "except FileNotFoundError:\n",
        "    print(f\"Error: The file '{filename}' does not exist.\")\n",
        "except IOError as e:\n",
        "    print(f\"An I/O error occurred: {e}\")"
      ],
      "metadata": {
        "colab": {
          "base_uri": "https://localhost:8080/"
        },
        "id": "iYJbVdqvsYHR",
        "outputId": "911d9bcc-17d3-4ca6-bacf-05d30332fb95"
      },
      "execution_count": 18,
      "outputs": [
        {
          "output_type": "stream",
          "name": "stdout",
          "text": [
            "Error: The file 'non_existent_file.txt' does not exist.\n"
          ]
        }
      ]
    },
    {
      "cell_type": "code",
      "source": [
        "#Q.9) How can you read a file line by line and store its content in a list in Python?\n",
        "\n",
        "filename = 'yourfile.txt'\n",
        "\n",
        "try:\n",
        "    with open(filename, 'r') as file:\n",
        "        lines = [line.strip() for line in file]  # Removes extra spaces/newlines\n",
        "        print(lines)  # Optional: print the list to see the result\n",
        "except FileNotFoundError:\n",
        "    print(f\"File '{filename}' not found. Please check the path.\")\n",
        ""
      ],
      "metadata": {
        "colab": {
          "base_uri": "https://localhost:8080/"
        },
        "id": "mJ9zldKRsf_-",
        "outputId": "7afd7c1c-f1a1-4376-ba6b-bbe985bc88b6"
      },
      "execution_count": 19,
      "outputs": [
        {
          "output_type": "stream",
          "name": "stdout",
          "text": [
            "File 'yourfile.txt' not found. Please check the path.\n"
          ]
        }
      ]
    },
    {
      "cell_type": "code",
      "source": [
        "#Q.10) How can you append data to an existing file in Python?\n",
        "\n",
        "# Open file in append mode ('a')\n",
        "with open('yourfile.txt', 'a') as file:\n",
        "    file.write(\"\\nThis new line has been added to the file.\")\n",
        "\n"
      ],
      "metadata": {
        "id": "Cs86_OKbst2p"
      },
      "execution_count": 21,
      "outputs": []
    },
    {
      "cell_type": "code",
      "source": [
        "#Q.11) Write a Python program that uses a try-except block to handle an error when attempting to access a\n",
        "dictionary key that doesn't exist?\n",
        "\n",
        "# Sample dictionary\n",
        "user_profile = {\n",
        "    'name': 'Lakhan',\n",
        "    'role': 'Data Explorer',\n",
        "    'location': 'Beawar'\n",
        "}\n",
        "\n",
        "# Try accessing a non-existent key\n",
        "try:\n",
        "    print(\"Email:\", user_profile['email'])\n",
        "except KeyError:\n",
        "    print(\"Oops! The key 'email' doesn't exist in the dictionary.\")\n",
        ""
      ],
      "metadata": {
        "colab": {
          "base_uri": "https://localhost:8080/"
        },
        "id": "FZe3WVGOs5o9",
        "outputId": "3a070d41-9a48-4ce8-f875-63870d64f123"
      },
      "execution_count": 22,
      "outputs": [
        {
          "output_type": "stream",
          "name": "stdout",
          "text": [
            "Object `exist` not found.\n",
            "Oops! The key 'email' doesn't exist in the dictionary.\n"
          ]
        }
      ]
    },
    {
      "cell_type": "code",
      "source": [
        "#Q.12) Write a program that demonstrates using multiple except blocks to handle different types of exceptions?\n",
        "\n",
        "try:\n",
        "    # Trigger a ValueError\n",
        "    num = int(\"not_a_number\")\n",
        "\n",
        "    # Trigger a ZeroDivisionError\n",
        "    result = 10 / 0\n",
        "\n",
        "    # Trigger a FileNotFoundError\n",
        "    with open('missing_file.txt', 'r') as file:\n",
        "        content = file.read()\n",
        "\n",
        "except ValueError as ve:\n",
        "    print(\"ValueError caught:\", ve)\n",
        "\n",
        "except ZeroDivisionError as zde:\n",
        "    print(\"ZeroDivisionError caught:\", zde)\n",
        "\n",
        "except FileNotFoundError as fnfe:\n",
        "    print(\"FileNotFoundError caught:\", fnfe)\n",
        "\n",
        "except Exception as e:\n",
        "    print(\"A general exception was caught:\", e)\n"
      ],
      "metadata": {
        "colab": {
          "base_uri": "https://localhost:8080/"
        },
        "id": "HzkCvRA6tHFW",
        "outputId": "39cc77a3-9fdd-4f41-e952-25faffc2c235"
      },
      "execution_count": 23,
      "outputs": [
        {
          "output_type": "stream",
          "name": "stdout",
          "text": [
            "ValueError caught: invalid literal for int() with base 10: 'not_a_number'\n"
          ]
        }
      ]
    },
    {
      "cell_type": "code",
      "source": [
        "#Q.13) F How would you check if a file exists before attempting to read it in Python?\n",
        "\n",
        "import os\n",
        "\n",
        "filename = 'yourfile.txt'\n",
        "\n",
        "if os.path.exists(filename):\n",
        "    with open(filename, 'r') as file:\n",
        "        content = file.read()\n",
        "        print(content)\n",
        "else:\n",
        "    print(f\"'{filename}' does not exist.\")"
      ],
      "metadata": {
        "colab": {
          "base_uri": "https://localhost:8080/"
        },
        "id": "bhi-8MzjtRYA",
        "outputId": "00a831b0-ddcf-4a7d-c19a-097dacf84a21"
      },
      "execution_count": 24,
      "outputs": [
        {
          "output_type": "stream",
          "name": "stdout",
          "text": [
            "\n",
            "This new line has been added to the file.\n",
            "This new line has been added to the file.\n"
          ]
        }
      ]
    },
    {
      "cell_type": "code",
      "source": [
        "#Q.14) Write a program that uses the logging module to log both informational and error messages\n",
        "\n",
        "import logging\n",
        "\n",
        "# Configure logging settings\n",
        "logging.basicConfig(\n",
        "    filename='activity.log',          # Log file name\n",
        "    level=logging.INFO,               # Minimum logging level\n",
        "    format='%(asctime)s - %(levelname)s - %(message)s'\n",
        ")\n",
        "\n",
        "# Log an informational message\n",
        "logging.info(\"Program started successfully.\")\n",
        "\n",
        "try:\n",
        "    # Simulate a normal operation\n",
        "    total_sales = 100\n",
        "    divisor = 0  # This will cause an error\n",
        "\n",
        "    # Risky operation\n",
        "    average = total_sales / divisor\n",
        "\n",
        "    # If no error occurs, log a success message\n",
        "    logging.info(f\"Average sales computed: {average}\")\n",
        "\n",
        "except ZeroDivisionError as e:\n",
        "    # Log an error message\n",
        ""
      ],
      "metadata": {
        "id": "PZ3gBMcwtdsV"
      },
      "execution_count": null,
      "outputs": []
    },
    {
      "cell_type": "code",
      "source": [
        "#Q.15) Write a Python program that prints the content of a file and handles the case when the file is emptyF\n",
        "\n",
        "import os\n",
        "\n",
        "filename = 'yourfile.txt'\n",
        "\n",
        "try:\n",
        "    # Check if the file exists and get its size\n",
        "    if os.path.exists(filename):\n",
        "        if os.path.getsize(filename) == 0:\n",
        "            print(f\"'{filename}' is empty.\")\n",
        "        else:\n",
        "            with open(filename, 'r') as file:\n",
        "                print(\"File contents:\\n\")\n",
        "                for line in file:\n",
        "                    print(line.strip())\n",
        "    else:\n",
        "        print(f\"Error: '{filename}' does not exist.\")\n",
        "\n",
        "except Exception as e:\n",
        "    print(\"An unexpected error occurred:\", e)"
      ],
      "metadata": {
        "colab": {
          "base_uri": "https://localhost:8080/"
        },
        "id": "TKKHy05Ntoqd",
        "outputId": "9c148626-9037-444c-c5b7-25afae9b5c3c"
      },
      "execution_count": 25,
      "outputs": [
        {
          "output_type": "stream",
          "name": "stdout",
          "text": [
            "File contents:\n",
            "\n",
            "\n",
            "This new line has been added to the file.\n",
            "This new line has been added to the file.\n"
          ]
        }
      ]
    },
    {
      "cell_type": "code",
      "source": [
        "#Q.16) Demonstrate how to use memory profiling to check the memory usage of a small program?\n",
        "\n",
        "pip install memory-profiler\n",
        "\n",
        "from memory_profiler import profile\n",
        "\n",
        "@profile\n",
        "def generate_squares():\n",
        "    squares = [i * i for i in range(10000)]\n",
        "    return squares\n",
        "\n",
        "generate_squares()"
      ],
      "metadata": {
        "id": "ONaxTXLjtwdx"
      },
      "execution_count": 27,
      "outputs": []
    },
    {
      "cell_type": "code",
      "source": [
        "#Q.17) Write a Python program to create and write a list of numbers to a file, one number per line\n",
        "\n",
        "# List of numbers to write\n",
        "numbers = [10, 20, 30, 40, 50]\n",
        "\n",
        "# Open file in write mode\n",
        "with open('numbers.txt', 'w') as file:\n",
        "    for num in numbers:\n",
        "        file.write(f\"{num}\\n\")  # Write each number followed by a newline\n"
      ],
      "metadata": {
        "id": "cMTDaoUUuPW_"
      },
      "execution_count": 28,
      "outputs": []
    },
    {
      "cell_type": "code",
      "source": [
        "#Q.18) How would you implement a basic logging setup that logs to a file with rotation after 1MB?\n",
        "\n",
        "\n",
        "import logging\n",
        "from logging.handlers import RotatingFileHandler\n",
        "\n",
        "# Configure a rotating file handler\n",
        "log_handler = RotatingFileHandler(\n",
        "    filename='app.log',\n",
        "    mode='a',\n",
        "    maxBytes=1_000_000,  # Rotate after 1MB\n",
        "    backupCount=3        # Keep 3 backup logs: app.log.1, app.log.2, ...\n",
        ")\n",
        "\n",
        "# Set logging format and level\n",
        "formatter = logging.Formatter"
      ],
      "metadata": {
        "id": "yb6h612kudW1"
      },
      "execution_count": null,
      "outputs": []
    },
    {
      "cell_type": "code",
      "source": [
        "#Q.19) Write a program that handles both IndexError and KeyError using a try-except block?\n",
        "\n",
        "# Sample list and dictionary\n",
        "fruits = ['apple', 'banana', 'mango']\n",
        "prices = {'apple': 100, 'banana': 60}\n",
        "\n",
        "try:\n",
        "    # Accessing an invalid index in the list\n",
        "    print(\"Fruit:\", fruits[5])\n",
        "\n",
        "    # Accessing a missing key in the dictionary\n",
        "    print(\"Price:\", prices['pineapple'])\n",
        "\n",
        "except IndexError as ie:\n",
        "    print(\"IndexError caught:\", ie)\n",
        "\n",
        "except KeyError as ke:\n",
        "    print(\"KeyError caught:\", ke)"
      ],
      "metadata": {
        "colab": {
          "base_uri": "https://localhost:8080/"
        },
        "id": "w8imMxWFuo1S",
        "outputId": "fae4d345-6e8e-4f59-e4f2-12a869649422"
      },
      "execution_count": 29,
      "outputs": [
        {
          "output_type": "stream",
          "name": "stdout",
          "text": [
            "IndexError caught: list index out of range\n"
          ]
        }
      ]
    },
    {
      "cell_type": "code",
      "source": [
        "#Q.20) How would you open a file and read its contents using a context manager in Python\n",
        "\n",
        "# Using 'with' to safely open and read a file\n",
        "filename = 'example.txt'\n",
        "\n",
        "try:\n",
        "    with open(filename, 'r') as file:\n",
        "        content = file.read()\n",
        "        print(\"File contents:\\n\")\n",
        "        print(content)\n",
        "except FileNotFoundError:\n",
        "    print(f\"Error: '{filename}' not found.\")\n",
        "except Exception as e:\n",
        "    print(\"An unexpected error occurred:\", e)\n",
        ""
      ],
      "metadata": {
        "colab": {
          "base_uri": "https://localhost:8080/"
        },
        "id": "3vbXF-bGuzeo",
        "outputId": "a43174f8-e3a5-4f87-9baa-a1af21a58546"
      },
      "execution_count": 30,
      "outputs": [
        {
          "output_type": "stream",
          "name": "stdout",
          "text": [
            "Error: 'example.txt' not found.\n"
          ]
        }
      ]
    },
    {
      "cell_type": "code",
      "source": [
        "#Q.21) Write a Python program that reads a file and prints the number of occurrences of a specific word\n",
        "\n",
        "# Word to search for\n",
        "target_word = 'success'\n",
        "filename = 'journal.txt'\n",
        "\n",
        "try:\n",
        "    # Open the file and read contents\n",
        "    with open(filename, 'r') as file:\n",
        "        content = file.read()\n",
        "\n",
        "    # Count occurrences (case-insensitive)\n",
        "    count = content.lower().split().count(target_word.lower())\n",
        "    print(f\"The word '{target_word}' occurred {count} times in '{filename}'.\")\n",
        "\n",
        "except FileNotFoundError:\n",
        "    print(f\"Error: The file '{filename}' was not found.\")\n",
        "except Exception as e:\n",
        "    print(\"An unexpected error occurred:\", e)"
      ],
      "metadata": {
        "colab": {
          "base_uri": "https://localhost:8080/"
        },
        "id": "GMEURbj_vEFY",
        "outputId": "7bb395da-5fb6-43f7-f332-9fdbe897866f"
      },
      "execution_count": 31,
      "outputs": [
        {
          "output_type": "stream",
          "name": "stdout",
          "text": [
            "Error: The file 'journal.txt' was not found.\n"
          ]
        }
      ]
    },
    {
      "cell_type": "code",
      "source": [
        "#Q.22) How can you check if a file is empty before attempting to read its contents?\n",
        "\n",
        "import os\n",
        "\n",
        "filename = 'data.txt'\n",
        "\n",
        "if os.path.exists(filename):\n",
        "    if os.path.getsize(filename) == 0:\n",
        "        print(f\"'{filename}' is empty.\")\n",
        "    else:\n",
        "        with open(filename, 'r') as file:\n",
        "            content = file.read()\n",
        "            print(content)\n",
        "else:\n",
        "    print(f\"File '{filename}' does not exist.\")"
      ],
      "metadata": {
        "colab": {
          "base_uri": "https://localhost:8080/"
        },
        "id": "bvo1o9uvvPXr",
        "outputId": "c846a2dc-2fad-4fd7-8f39-6a1ee7945229"
      },
      "execution_count": 32,
      "outputs": [
        {
          "output_type": "stream",
          "name": "stdout",
          "text": [
            "File 'data.txt' does not exist.\n"
          ]
        }
      ]
    },
    {
      "cell_type": "code",
      "source": [
        "#Q.23) Write a Python program that writes to a log file when an error occurs during file handling.\n",
        "\n",
        "import logging\n",
        "\n",
        "# 🗂️ Set up logging\n",
        "logging.basicConfig(\n",
        "    filename='error_log.txt',\n",
        "    level=logging.ERROR,\n",
        "    format='%(asctime)s - %(levelname)s - %(message)s'\n",
        ")\n",
        "\n",
        "def read_file(filename):\n",
        "    try:\n",
        "        with open(filename, 'r') as file:\n",
        "            contents = file.read()\n",
        "            print(contents)\n",
        "    except Exception as e:\n",
        "        logging.error(f\"Error reading file '{filename}': {e}\")\n",
        "        print(\"An error occurred. Check 'error_log.txt' for details.\")\n",
        "\n",
        "# 🚀 Run the function with a sample filename\n",
        "read_file('sample.txt')"
      ],
      "metadata": {
        "colab": {
          "base_uri": "https://localhost:8080/"
        },
        "id": "lTkwx9g2vpql",
        "outputId": "4df1da2b-1e94-4568-de0a-e416366692c3"
      },
      "execution_count": 33,
      "outputs": [
        {
          "output_type": "stream",
          "name": "stderr",
          "text": [
            "ERROR:root:Error reading file 'sample.txt': [Errno 2] No such file or directory: 'sample.txt'\n"
          ]
        },
        {
          "output_type": "stream",
          "name": "stdout",
          "text": [
            "An error occurred. Check 'error_log.txt' for details.\n"
          ]
        }
      ]
    },
    {
      "cell_type": "code",
      "source": [],
      "metadata": {
        "id": "G4q8uwzNwLsX"
      },
      "execution_count": null,
      "outputs": []
    }
  ]
}